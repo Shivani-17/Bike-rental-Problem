{
 "cells": [
  {
   "cell_type": "code",
   "execution_count": 211,
   "metadata": {},
   "outputs": [],
   "source": [
    "import pandas as pd\n",
    "import seaborn as sns\n",
    "import matplotlib.pyplot as plt\n",
    "import numpy as np\n",
    "from dateutil.parser import parse\n",
    "from sklearn import linear_model\n",
    "from sklearn.metrics import mean_squared_error,r2_score,roc_auc_score\n",
    "import math\n",
    "from sklearn.ensemble import RandomForestRegressor\n",
    "from sklearn.model_selection import RandomizedSearchCV\n",
    "from xgboost import XGBRegressor\n",
    "import xgboost as xgb\n",
    "from treeinterpreter import treeinterpreter as ti\n",
    "from sklearn.model_selection import cross_val_score\n",
    "from sklearn.model_selection import learning_curve\n",
    "from sklearn.neural_network import MLPRegressor\n",
    "%matplotlib inline"
   ]
  },
  {
   "cell_type": "code",
   "execution_count": 212,
   "metadata": {},
   "outputs": [],
   "source": [
    "train_df = pd.read_csv('train.csv')\n",
    "test_df = pd.read_csv('test.csv')\n",
    "sample_df = pd.read_csv('sampleSubmission.csv')"
   ]
  },
  {
   "cell_type": "code",
   "execution_count": 213,
   "metadata": {},
   "outputs": [
    {
     "data": {
      "text/plain": [
       "(10886, 12)"
      ]
     },
     "execution_count": 213,
     "metadata": {},
     "output_type": "execute_result"
    }
   ],
   "source": [
    "train_df.shape"
   ]
  },
  {
   "cell_type": "code",
   "execution_count": 214,
   "metadata": {},
   "outputs": [
    {
     "data": {
      "text/plain": [
       "(array([ 22.,   1.,   5.,  40., 118., 246., 401., 638., 828., 899., 919.,\n",
       "        923., 801., 947., 894., 842., 825., 851., 536., 150.]),\n",
       " array([  0.,   5.,  10.,  15.,  20.,  25.,  30.,  35.,  40.,  45.,  50.,\n",
       "         55.,  60.,  65.,  70.,  75.,  80.,  85.,  90.,  95., 100.]),\n",
       " <a list of 20 Patch objects>)"
      ]
     },
     "execution_count": 214,
     "metadata": {},
     "output_type": "execute_result"
    },
    {
     "data": {
      "image/png": "[encoded data removed]",
      "text/plain": [
       "<matplotlib.figure.Figure at 0x1a211ab750>"
      ]
     },
     "metadata": {},
     "output_type": "display_data"
    }
   ],
   "source": [
    "plt.hist(train_df['humidity'],bins=20)"
   ]
  },
  {
   "cell_type": "code",
   "execution_count": 215,
   "metadata": {},
   "outputs": [
    {
     "data": {
      "text/plain": [
       "(array([1.313e+03, 0.000e+00, 1.906e+03, 2.177e+03, 1.042e+03, 1.785e+03,\n",
       "        6.760e+02, 8.640e+02, 2.740e+02, 4.220e+02, 2.000e+02, 8.000e+01,\n",
       "        8.000e+01, 2.700e+01, 1.100e+01, 2.000e+01, 5.000e+00, 1.000e+00,\n",
       "        1.000e+00, 2.000e+00]),\n",
       " array([ 0.      ,  2.849845,  5.69969 ,  8.549535, 11.39938 , 14.249225,\n",
       "        17.09907 , 19.948915, 22.79876 , 25.648605, 28.49845 , 31.348295,\n",
       "        34.19814 , 37.047985, 39.89783 , 42.747675, 45.59752 , 48.447365,\n",
       "        51.29721 , 54.147055, 56.9969  ]),\n",
       " <a list of 20 Patch objects>)"
      ]
     },
     "execution_count": 215,
     "metadata": {},
     "output_type": "execute_result"
    },
    {
     "data": {
      "image/png": "[encoded data removed]",
      "text/plain": [
       "<matplotlib.figure.Figure at 0x1a20d17750>"
      ]
     },
     "metadata": {},
     "output_type": "display_data"
    }
   ],
   "source": [
    "plt.hist(train_df['windspeed'],bins=20)"
   ]
  },
  {
   "cell_type": "code",
   "execution_count": 216,
   "metadata": {},
   "outputs": [],
   "source": [
    "def normalize(df,col) :\n",
    "    df[col] = df[col].apply(lambda x : x+1)\n",
    "    df[col] = np.log(df[col])\n",
    "    return df\n",
    "    "
   ]
  },
  {
   "cell_type": "code",
   "execution_count": 217,
   "metadata": {},
   "outputs": [],
   "source": [
    "train_df = normalize(train_df,'windspeed')\n",
    "test_df = normalize(test_df,'windspeed')\n",
    "#train_df[train_df['windspeed'] < 0]\n",
    "#np.log(1)"
   ]
  },
  {
   "cell_type": "code",
   "execution_count": 218,
   "metadata": {},
   "outputs": [
    {
     "data": {
      "text/plain": [
       "(array([1313.,    0.,    0.,    0.,    0.,    0.,    0.,    0.,    0.,\n",
       "         872., 1034., 1120., 2099.,  961., 1992.,  646.,  533.,  249.,\n",
       "          61.,    6.]),\n",
       " array([0.        , 0.20301948, 0.40603896, 0.60905843, 0.81207791,\n",
       "        1.01509739, 1.21811687, 1.42113635, 1.62415582, 1.8271753 ,\n",
       "        2.03019478, 2.23321426, 2.43623374, 2.63925321, 2.84227269,\n",
       "        3.04529217, 3.24831165, 3.45133113, 3.6543506 , 3.85737008,\n",
       "        4.06038956]),\n",
       " <a list of 20 Patch objects>)"
      ]
     },
     "execution_count": 218,
     "metadata": {},
     "output_type": "execute_result"
    },
    {
     "data": {
      "image/png": "[encoded data removed]",
      "text/plain": [
       "<matplotlib.figure.Figure at 0x1a20e40b50>"
      ]
     },
     "metadata": {},
     "output_type": "display_data"
    }
   ],
   "source": [
    "plt.hist(train_df['windspeed'],bins=20)"
   ]
  },
  {
   "cell_type": "code",
   "execution_count": 219,
   "metadata": {},
   "outputs": [
    {
     "data": {
      "text/plain": [
       "season        0.096758\n",
       "holiday       0.043799\n",
       "workingday   -0.319111\n",
       "weather      -0.135918\n",
       "temp          0.467097\n",
       "atemp         0.462067\n",
       "humidity     -0.348187\n",
       "windspeed     0.081882\n",
       "casual        1.000000\n",
       "registered    0.497250\n",
       "count         0.690414\n",
       "Name: casual, dtype: float64"
      ]
     },
     "execution_count": 219,
     "metadata": {},
     "output_type": "execute_result"
    }
   ],
   "source": [
    "train_df.corr()['casual']"
   ]
  },
  {
   "cell_type": "code",
   "execution_count": 220,
   "metadata": {},
   "outputs": [],
   "source": [
    "def get_dates(df) :\n",
    "    #print df\n",
    "    datetime = df['datetime'].values\n",
    "    date_arr = []\n",
    "    time_arr = []\n",
    "    year = []\n",
    "    month = []\n",
    "    d = []\n",
    "    for item in datetime :\n",
    "        dates = item.split(\" \")\n",
    "        date = dates[0]\n",
    "        time = dates[1].split(':')[0]\n",
    "        ym = date.split('-')\n",
    "        year.append(int(ym[0]))\n",
    "        month.append(int(ym[1]))\n",
    "        d.append(int(ym[2]))\n",
    "        date_arr.append(date)\n",
    "        time_arr.append(int(time))\n",
    "    \n",
    "\n",
    "    df['date'] = date_arr\n",
    "    df['time'] = time_arr\n",
    "    df['year'] = year\n",
    "    df['month'] = month\n",
    "    df['day'] = d\n",
    "    return df\n",
    "    #print df['month'].value_counts()\n",
    "    #print df['day'].value_counts()\n",
    "    #print df['year'].value_counts()"
   ]
  },
  {
   "cell_type": "code",
   "execution_count": 221,
   "metadata": {},
   "outputs": [
    {
     "data": {
      "text/html": [
       "<div>\n",
       "<style scoped>\n",
       "    .dataframe tbody tr th:only-of-type {\n",
       "        vertical-align: middle;\n",
       "    }\n",
       "\n",
       "    .dataframe tbody tr th {\n",
       "        vertical-align: top;\n",
       "    }\n",
       "\n",
       "    .dataframe thead th {\n",
       "        text-align: right;\n",
       "    }\n",
       "</style>\n",
       "<table border=\"1\" class=\"dataframe\">\n",
       "  <thead>\n",
       "    <tr style=\"text-align: right;\">\n",
       "      <th></th>\n",
       "      <th>datetime</th>\n",
       "      <th>season</th>\n",
       "      <th>holiday</th>\n",
       "      <th>workingday</th>\n",
       "      <th>weather</th>\n",
       "      <th>temp</th>\n",
       "      <th>atemp</th>\n",
       "      <th>humidity</th>\n",
       "      <th>windspeed</th>\n",
       "      <th>casual</th>\n",
       "      <th>registered</th>\n",
       "      <th>count</th>\n",
       "      <th>date</th>\n",
       "      <th>time</th>\n",
       "      <th>year</th>\n",
       "      <th>month</th>\n",
       "      <th>day</th>\n",
       "    </tr>\n",
       "  </thead>\n",
       "  <tbody>\n",
       "    <tr>\n",
       "      <th>0</th>\n",
       "      <td>2011-01-01 00:00:00</td>\n",
       "      <td>1</td>\n",
       "      <td>0</td>\n",
       "      <td>0</td>\n",
       "      <td>1</td>\n",
       "      <td>9.84</td>\n",
       "      <td>14.395</td>\n",
       "      <td>81</td>\n",
       "      <td>0.0</td>\n",
       "      <td>3</td>\n",
       "      <td>13</td>\n",
       "      <td>16</td>\n",
       "      <td>2011-01-01</td>\n",
       "      <td>0</td>\n",
       "      <td>2011</td>\n",
       "      <td>1</td>\n",
       "      <td>1</td>\n",
       "    </tr>\n",
       "    <tr>\n",
       "      <th>1</th>\n",
       "      <td>2011-01-01 01:00:00</td>\n",
       "      <td>1</td>\n",
       "      <td>0</td>\n",
       "      <td>0</td>\n",
       "      <td>1</td>\n",
       "      <td>9.02</td>\n",
       "      <td>13.635</td>\n",
       "      <td>80</td>\n",
       "      <td>0.0</td>\n",
       "      <td>8</td>\n",
       "      <td>32</td>\n",
       "      <td>40</td>\n",
       "      <td>2011-01-01</td>\n",
       "      <td>1</td>\n",
       "      <td>2011</td>\n",
       "      <td>1</td>\n",
       "      <td>1</td>\n",
       "    </tr>\n",
       "    <tr>\n",
       "      <th>2</th>\n",
       "      <td>2011-01-01 02:00:00</td>\n",
       "      <td>1</td>\n",
       "      <td>0</td>\n",
       "      <td>0</td>\n",
       "      <td>1</td>\n",
       "      <td>9.02</td>\n",
       "      <td>13.635</td>\n",
       "      <td>80</td>\n",
       "      <td>0.0</td>\n",
       "      <td>5</td>\n",
       "      <td>27</td>\n",
       "      <td>32</td>\n",
       "      <td>2011-01-01</td>\n",
       "      <td>2</td>\n",
       "      <td>2011</td>\n",
       "      <td>1</td>\n",
       "      <td>1</td>\n",
       "    </tr>\n",
       "    <tr>\n",
       "      <th>3</th>\n",
       "      <td>2011-01-01 03:00:00</td>\n",
       "      <td>1</td>\n",
       "      <td>0</td>\n",
       "      <td>0</td>\n",
       "      <td>1</td>\n",
       "      <td>9.84</td>\n",
       "      <td>14.395</td>\n",
       "      <td>75</td>\n",
       "      <td>0.0</td>\n",
       "      <td>3</td>\n",
       "      <td>10</td>\n",
       "      <td>13</td>\n",
       "      <td>2011-01-01</td>\n",
       "      <td>3</td>\n",
       "      <td>2011</td>\n",
       "      <td>1</td>\n",
       "      <td>1</td>\n",
       "    </tr>\n",
       "    <tr>\n",
       "      <th>4</th>\n",
       "      <td>2011-01-01 04:00:00</td>\n",
       "      <td>1</td>\n",
       "      <td>0</td>\n",
       "      <td>0</td>\n",
       "      <td>1</td>\n",
       "      <td>9.84</td>\n",
       "      <td>14.395</td>\n",
       "      <td>75</td>\n",
       "      <td>0.0</td>\n",
       "      <td>0</td>\n",
       "      <td>1</td>\n",
       "      <td>1</td>\n",
       "      <td>2011-01-01</td>\n",
       "      <td>4</td>\n",
       "      <td>2011</td>\n",
       "      <td>1</td>\n",
       "      <td>1</td>\n",
       "    </tr>\n",
       "  </tbody>\n",
       "</table>\n",
       "</div>"
      ],
      "text/plain": [
       "              datetime  season  holiday  workingday  weather  temp   atemp  \\\n",
       "0  2011-01-01 00:00:00       1        0           0        1  9.84  14.395   \n",
       "1  2011-01-01 01:00:00       1        0           0        1  9.02  13.635   \n",
       "2  2011-01-01 02:00:00       1        0           0        1  9.02  13.635   \n",
       "3  2011-01-01 03:00:00       1        0           0        1  9.84  14.395   \n",
       "4  2011-01-01 04:00:00       1        0           0        1  9.84  14.395   \n",
       "\n",
       "   humidity  windspeed  casual  registered  count        date  time  year  \\\n",
       "0        81        0.0       3          13     16  2011-01-01     0  2011   \n",
       "1        80        0.0       8          32     40  2011-01-01     1  2011   \n",
       "2        80        0.0       5          27     32  2011-01-01     2  2011   \n",
       "3        75        0.0       3          10     13  2011-01-01     3  2011   \n",
       "4        75        0.0       0           1      1  2011-01-01     4  2011   \n",
       "\n",
       "   month  day  \n",
       "0      1    1  \n",
       "1      1    1  \n",
       "2      1    1  \n",
       "3      1    1  \n",
       "4      1    1  "
      ]
     },
     "execution_count": 221,
     "metadata": {},
     "output_type": "execute_result"
    }
   ],
   "source": [
    "train_df = get_dates(train_df)\n",
    "train_df.head()\n",
    "#get_dates(test_df)\n",
    "#train_df.head()"
   ]
  },
  {
   "cell_type": "code",
   "execution_count": 222,
   "metadata": {},
   "outputs": [],
   "source": [
    "test_df = get_dates(test_df)\n",
    "train_df['day_of_week'] = train_df['date'].apply(lambda x : parse(x).weekday())\n",
    "test_df['day_of_week'] = test_df['date'].apply(lambda x : parse(x).weekday())"
   ]
  },
  {
   "cell_type": "code",
   "execution_count": 223,
   "metadata": {},
   "outputs": [],
   "source": [
    "train_df.drop(['datetime','date','day'],axis=1,inplace=True)\n",
    "test_datetime = test_df['datetime']\n",
    "test_df.drop(['datetime','date','day'],axis=1,inplace=True)"
   ]
  },
  {
   "cell_type": "code",
   "execution_count": null,
   "metadata": {},
   "outputs": [],
   "source": []
  },
  {
   "cell_type": "code",
   "execution_count": 224,
   "metadata": {},
   "outputs": [
    {
     "name": "stdout",
     "output_type": "stream",
     "text": [
      "hot_cold\n",
      "0    63.610\n",
      "1    84.815\n",
      "Name: ftemp, dtype: float64\n"
     ]
    }
   ],
   "source": [
    "#time and month require binning\n",
    "#train_df.groupby('season')['windspeed'].mean().plot(kind='bar')#train_df.corr()['registered'].sort_values()  \n",
    "#casual = remove weather_4,time_20\n",
    "#registered = time_11,weather_4,month_12\n",
    "\n",
    "#1 = spring, 2 = summer, 3 = fall, 4 = winter \n",
    "#0.760,32.575 --> spring\n",
    "#11.365,43.940 --> summer\n",
    "#12.120,45.455 --> fall\n",
    "#7.575,34.090 --> winter\n",
    "\n",
    "train_df['ftemp'] = train_df['temp'] + train_df['atemp']\n",
    "test_df['ftemp'] = test_df['temp'] + test_df['atemp']\n",
    "train_df['hot_cold'] = 0\n",
    "train_df.loc[(train_df['season'] == 2),'hot_cold'] = 1\n",
    "train_df.loc[(train_df['season'] == 3),'hot_cold'] = 1\n",
    "test_df['hot_cold'] = 0\n",
    "test_df.loc[(test_df['season'] == 2) ,'hot_cold'] = 1\n",
    "test_df.loc[(test_df['season'] == 3) ,'hot_cold'] = 1\n",
    "\n",
    "maxx = train_df.groupby('hot_cold')['ftemp'].max()\n",
    "minn = train_df.groupby('hot_cold')['ftemp'].min()\n",
    "meann = train_df.groupby('hot_cold')['ftemp'].mean()\n",
    "\n",
    "maxxx = test_df.groupby('hot_cold')['ftemp'].max()\n",
    "minnn = test_df.groupby('hot_cold')['ftemp'].min()\n",
    "meannn = test_df.groupby('hot_cold')['ftemp'].mean()\n",
    "\n",
    "print maxx\n",
    "train_df['std_temp'] = 5\n",
    "train_df.loc[train_df['hot_cold'] == 1,'std_temp'] = (train_df.loc[train_df['hot_cold'] == 1,'ftemp'] - meann.values[1]) / (-10)\n",
    "train_df.loc[train_df['hot_cold'] == 0,'std_temp'] = (train_df.loc[train_df['hot_cold'] == 0,'ftemp'] - meann.values[0]) / (10)\n",
    "\n",
    "\n",
    "test_df['std_temp'] = 5\n",
    "test_df.loc[test_df['hot_cold'] == 1,'std_temp'] = (test_df.loc[test_df['hot_cold'] == 1,'ftemp'] - meannn.values[1]) / (-10)\n",
    "test_df.loc[test_df['hot_cold'] == 0,'std_temp'] = (test_df.loc[train_df['hot_cold'] == 0,'ftemp'] - meannn.values[0]) / (10)\n",
    "\n",
    "train_df['relative_humidity'] = train_df['humidity']/train_df['ftemp']\n",
    "test_df['relative_humidity'] = test_df['humidity']/test_df['ftemp']\n",
    "\n",
    "#train_df.loc"
   ]
  },
  {
   "cell_type": "code",
   "execution_count": 225,
   "metadata": {},
   "outputs": [],
   "source": [
    "def create_dummies(df,col) :\n",
    "    dummies = pd.get_dummies(df[col]).rename(columns=lambda x: col + '_' + str(x))\n",
    "    df = pd.concat([df, dummies], axis=1)\n",
    "    #print df.head()\n",
    "    df.drop(col, inplace=True, axis=1)\n",
    "    #print df.head()\n",
    "    return df"
   ]
  },
  {
   "cell_type": "code",
   "execution_count": 226,
   "metadata": {},
   "outputs": [],
   "source": [
    "\n",
    "\"\"\"\"train_df = create_dummies(train_df,'day_of_week')\n",
    "train_df = create_dummies(train_df,'season')\n",
    "train_df = create_dummies(train_df,'weather')\n",
    "train_df = create_dummies(train_df,'time')\n",
    "train_df = create_dummies(train_df,'year')\n",
    "train_df = create_dummies(train_df,'month')\n",
    "test_df = create_dummies(test_df,'day_of_week')\n",
    "test_df = create_dummies(test_df,'season')\n",
    "test_df = create_dummies(test_df,'weather')\n",
    "test_df = create_dummies(test_df,'time')\n",
    "test_df = create_dummies(test_df,'year')\n",
    "test_df = create_dummies(test_df,'month')\"\"\"\n",
    "train_df.head()\n",
    "train_df.drop(['temp','atemp'],axis=1,inplace=True)\n",
    "test_df.drop(['temp','atemp'],axis=1,inplace=True)\n",
    "#train_df['humidity_windspeed'] = train_df['humidity'] * train_df['windspeed']\n",
    "#test_df['humidity_windspeed'] = test_df['humidity'] * test_df['windspeed']\n",
    "#train_df['ftemp_windspeed'] = train_df['f_temp'] * train_df['windspeed']\n",
    "#test_df['ftemp_windspeed'] = test_df['f_temp'] * test_df['windspeed']\n",
    "#train_df.loc['time_category' < 5,'time_category'] = 0"
   ]
  },
  {
   "cell_type": "code",
   "execution_count": 227,
   "metadata": {},
   "outputs": [],
   "source": [
    "test_df.head()\n",
    "train_df.drop(['count','hot_cold'],axis=1,inplace=True)\n",
    "test_df.drop('hot_cold',axis=1,inplace=True)\n",
    "#train_df.head()\n",
    "#test_df.columns.values"
   ]
  },
  {
   "cell_type": "code",
   "execution_count": 228,
   "metadata": {},
   "outputs": [
    {
     "data": {
      "text/html": [
       "<div>\n",
       "<style scoped>\n",
       "    .dataframe tbody tr th:only-of-type {\n",
       "        vertical-align: middle;\n",
       "    }\n",
       "\n",
       "    .dataframe tbody tr th {\n",
       "        vertical-align: top;\n",
       "    }\n",
       "\n",
       "    .dataframe thead th {\n",
       "        text-align: right;\n",
       "    }\n",
       "</style>\n",
       "<table border=\"1\" class=\"dataframe\">\n",
       "  <thead>\n",
       "    <tr style=\"text-align: right;\">\n",
       "      <th></th>\n",
       "      <th>season</th>\n",
       "      <th>holiday</th>\n",
       "      <th>workingday</th>\n",
       "      <th>weather</th>\n",
       "      <th>humidity</th>\n",
       "      <th>windspeed</th>\n",
       "      <th>casual</th>\n",
       "      <th>registered</th>\n",
       "      <th>time</th>\n",
       "      <th>year</th>\n",
       "      <th>month</th>\n",
       "      <th>day_of_week</th>\n",
       "      <th>ftemp</th>\n",
       "      <th>std_temp</th>\n",
       "      <th>relative_humidity</th>\n",
       "    </tr>\n",
       "  </thead>\n",
       "  <tbody>\n",
       "    <tr>\n",
       "      <th>0</th>\n",
       "      <td>1</td>\n",
       "      <td>0</td>\n",
       "      <td>0</td>\n",
       "      <td>1</td>\n",
       "      <td>81</td>\n",
       "      <td>0.0</td>\n",
       "      <td>3</td>\n",
       "      <td>13</td>\n",
       "      <td>0</td>\n",
       "      <td>2011</td>\n",
       "      <td>1</td>\n",
       "      <td>5</td>\n",
       "      <td>24.235</td>\n",
       "      <td>-0.803893</td>\n",
       "      <td>3.342274</td>\n",
       "    </tr>\n",
       "    <tr>\n",
       "      <th>1</th>\n",
       "      <td>1</td>\n",
       "      <td>0</td>\n",
       "      <td>0</td>\n",
       "      <td>1</td>\n",
       "      <td>80</td>\n",
       "      <td>0.0</td>\n",
       "      <td>8</td>\n",
       "      <td>32</td>\n",
       "      <td>1</td>\n",
       "      <td>2011</td>\n",
       "      <td>1</td>\n",
       "      <td>5</td>\n",
       "      <td>22.655</td>\n",
       "      <td>-0.961893</td>\n",
       "      <td>3.531229</td>\n",
       "    </tr>\n",
       "    <tr>\n",
       "      <th>2</th>\n",
       "      <td>1</td>\n",
       "      <td>0</td>\n",
       "      <td>0</td>\n",
       "      <td>1</td>\n",
       "      <td>80</td>\n",
       "      <td>0.0</td>\n",
       "      <td>5</td>\n",
       "      <td>27</td>\n",
       "      <td>2</td>\n",
       "      <td>2011</td>\n",
       "      <td>1</td>\n",
       "      <td>5</td>\n",
       "      <td>22.655</td>\n",
       "      <td>-0.961893</td>\n",
       "      <td>3.531229</td>\n",
       "    </tr>\n",
       "    <tr>\n",
       "      <th>3</th>\n",
       "      <td>1</td>\n",
       "      <td>0</td>\n",
       "      <td>0</td>\n",
       "      <td>1</td>\n",
       "      <td>75</td>\n",
       "      <td>0.0</td>\n",
       "      <td>3</td>\n",
       "      <td>10</td>\n",
       "      <td>3</td>\n",
       "      <td>2011</td>\n",
       "      <td>1</td>\n",
       "      <td>5</td>\n",
       "      <td>24.235</td>\n",
       "      <td>-0.803893</td>\n",
       "      <td>3.094698</td>\n",
       "    </tr>\n",
       "    <tr>\n",
       "      <th>4</th>\n",
       "      <td>1</td>\n",
       "      <td>0</td>\n",
       "      <td>0</td>\n",
       "      <td>1</td>\n",
       "      <td>75</td>\n",
       "      <td>0.0</td>\n",
       "      <td>0</td>\n",
       "      <td>1</td>\n",
       "      <td>4</td>\n",
       "      <td>2011</td>\n",
       "      <td>1</td>\n",
       "      <td>5</td>\n",
       "      <td>24.235</td>\n",
       "      <td>-0.803893</td>\n",
       "      <td>3.094698</td>\n",
       "    </tr>\n",
       "  </tbody>\n",
       "</table>\n",
       "</div>"
      ],
      "text/plain": [
       "   season  holiday  workingday  weather  humidity  windspeed  casual  \\\n",
       "0       1        0           0        1        81        0.0       3   \n",
       "1       1        0           0        1        80        0.0       8   \n",
       "2       1        0           0        1        80        0.0       5   \n",
       "3       1        0           0        1        75        0.0       3   \n",
       "4       1        0           0        1        75        0.0       0   \n",
       "\n",
       "   registered  time  year  month  day_of_week   ftemp  std_temp  \\\n",
       "0          13     0  2011      1            5  24.235 -0.803893   \n",
       "1          32     1  2011      1            5  22.655 -0.961893   \n",
       "2          27     2  2011      1            5  22.655 -0.961893   \n",
       "3          10     3  2011      1            5  24.235 -0.803893   \n",
       "4           1     4  2011      1            5  24.235 -0.803893   \n",
       "\n",
       "   relative_humidity  \n",
       "0           3.342274  \n",
       "1           3.531229  \n",
       "2           3.531229  \n",
       "3           3.094698  \n",
       "4           3.094698  "
      ]
     },
     "execution_count": 228,
     "metadata": {},
     "output_type": "execute_result"
    }
   ],
   "source": [
    "\n",
    "train_df.head()\n",
    "#train_df.corr()['registered']"
   ]
  },
  {
   "cell_type": "code",
   "execution_count": 229,
   "metadata": {},
   "outputs": [],
   "source": [
    "train_df_casual_y = train_df['casual']\n",
    "train_df_casual_x = train_df.drop(['registered','casual'],axis=1)\n",
    "train_df_registered_y = train_df['registered']\n",
    "train_df_registered_x = train_df.drop(['registered'],axis=1)"
   ]
  },
  {
   "cell_type": "code",
   "execution_count": 230,
   "metadata": {},
   "outputs": [],
   "source": [
    "\n",
    "#train_df_registered_x.drop(['time_11','weather_4','month_12'],axis=1,inplace=True)\n",
    "#test_df_registered = test_df.drop(['time_11','weather_4','month_12'],axis=1)\n",
    "#train_df_casual_x.drop(['weather_4','time_20'],axis=1,inplace=True)\n",
    "#test_df_casual = test_df.drop(['weather_4','time_20'],axis=1)\n",
    "\n",
    "#print train_df_casual_x.columns\n",
    "#print test_df.columns"
   ]
  },
  {
   "cell_type": "code",
   "execution_count": 231,
   "metadata": {},
   "outputs": [],
   "source": [
    "#clf_casual = linear_model.LinearRegression()\n",
    "#clf_casual.fit(train_df_casual_x,train_df_casual_y)\n",
    "#test_df_casual = clf_casual.predict(test_df)\n",
    "#clf_registered = linear_model.LinearRegression()\n",
    "#clf_registered.fit(train_df_registered_x,train_df_registered_y)\n",
    "#test_df_registered = clf_registered.predict(test_df)\n",
    "\n",
    "#clf_casual = RandomForestRegressor(n_estimators = 100,oob_score=True)\n",
    "#clf_casual.fit(train_df_casual_x,train_df_casual_y)\n",
    "#test_df_casual = clf_casual.predict(test_df)\n",
    "#clf_registered = RandomForestRegressor(n_estimators=100,oob_score=True)\n",
    "#clf_registered.fit(train_df_registered_x,train_df_registered_y)\n",
    "#test_df_registered = clf_registered.predict(test_df)"
   ]
  },
  {
   "cell_type": "code",
   "execution_count": 232,
   "metadata": {},
   "outputs": [],
   "source": [
    "#n_estimators = [int(x) for x in np.linspace(start = 200, stop = 1000, num = 10)]\n",
    "max_depth = [int(x) for x in np.linspace(10, 1000, num = 11)]\n",
    "\n",
    "learning_rate = [0.1,0.2,0.3,0.4,0.5]\n",
    "min_child_weight = range(1,6,2)\n",
    "gamma = [i/10.0 for i in range(0,5)]\n",
    "#bootstrap = [True, False]\n",
    "subsample =[0.75,0.8,0.85,0.9]\n",
    "random_grid = {'learning_rate': learning_rate,\n",
    "               'min_child_weight': min_child_weight ,\n",
    "               'gamma' : gamma,\n",
    "               'subsample' : subsample,\n",
    "               'max_depth' : max_depth\n",
    "               #'bootstrap' : bootstrap\n",
    "               }\n"
   ]
  },
  {
   "cell_type": "code",
   "execution_count": 233,
   "metadata": {},
   "outputs": [],
   "source": [
    "#rf_casual = XGBRegressor()\n",
    "#rf_random_casual = RandomizedSearchCV(estimator = rf_casual, param_distributions = random_grid, n_iter = 100, cv = 3, verbose=2, random_state=42, n_jobs = -1)\n",
    "#rf_random_casual.fit(train_df_casual_x,train_df_casual_y)\n",
    "#rf_random_casual.best_params_\n"
   ]
  },
  {
   "cell_type": "code",
   "execution_count": 234,
   "metadata": {},
   "outputs": [],
   "source": [
    "#rf_registered = XGBRegressor()\n",
    "#rf_random_registered = RandomizedSearchCV(estimator = rf_registered, param_distributions = random_grid, n_iter = 100, cv = 3, verbose=2, random_state=42, n_jobs = -1)\n",
    "#rf_random_registered.fit(train_df_registered_x,train_df_registered_y)\n",
    "#rf_random_registered.best_params_\n"
   ]
  },
  {
   "cell_type": "code",
   "execution_count": 235,
   "metadata": {},
   "outputs": [],
   "source": [
    "#clf_casual = RandomForestRegressor(n_estimators = 100,max_depth= 100, min_samples_leaf=1, min_samples_split= 10,bootstrap=True)\n",
    "#clf_casual.fit(train_df_casual_x,train_df_casual_y)\n",
    "#test_df_casual, bias, contributions = ti.predict(clf_casual,test_df)\n",
    "#print cross_val_score(clf_casual,train_df_casual_x,train_df_casual_y)\n",
    "#print bias\n",
    "#print contributions\n",
    "#clf_registered = RandomForestRegressor(max_depth= 100,min_samples_leaf= 1,min_samples_split= 10,n_estimators= 100,bootstrap=True)\n",
    "#clf_registered.fit(train_df_registered_x,train_df_registered_y)\n",
    "#test_df_registered, bias, contributions = ti.predict(clf_registered,test_df)\n",
    "#print cross_val_score(clf_registered,train_df_registered_x,train_df_registered_y)\n",
    "#print bias\n",
    "#print contributions"
   ]
  },
  {
   "cell_type": "code",
   "execution_count": 236,
   "metadata": {},
   "outputs": [
    {
     "data": {
      "text/plain": [
       "Index([u'season', u'holiday', u'workingday', u'weather', u'humidity',\n",
       "       u'windspeed', u'casual', u'time', u'year', u'month', u'day_of_week',\n",
       "       u'ftemp', u'std_temp', u'relative_humidity'],\n",
       "      dtype='object')"
      ]
     },
     "execution_count": 236,
     "metadata": {},
     "output_type": "execute_result"
    }
   ],
   "source": [
    "train_df_registered_x.columns\n",
    "#test_df.head()\n",
    "\n"
   ]
  },
  {
   "cell_type": "code",
   "execution_count": 237,
   "metadata": {},
   "outputs": [],
   "source": [
    "#train_data = xgb.DMatrix(train_df_casual_x,label=train_df_casual_y)\n",
    "#res1 = xgb.cv({'n_estimators':100,'max_depth' : 100,'subsample':0.8,'min_child_weight':3,'gamma':0.3,'eta':0.1,'seed':42},train_data,num_boost_round=100,nfold=3,)\n",
    "#print res1\n",
    "reg = XGBRegressor(max_depth=100,subsample=0.8,eta=0.05,gamma=0.3,seed=42,n_estimators=100)\n",
    "reg.fit(train_df_casual_x,train_df_casual_y)\n",
    "test_df_casual = reg.predict(test_df)\n",
    "\n",
    "test_df['casual'] = test_df_casual\n",
    "test_df = test_df[train_df_registered_x.columns.values]\n"
   ]
  },
  {
   "cell_type": "code",
   "execution_count": 251,
   "metadata": {},
   "outputs": [
    {
     "name": "stdout",
     "output_type": "stream",
     "text": [
      "[0.6576556  0.74799954 0.81861158]\n"
     ]
    }
   ],
   "source": [
    "#train_data = xgb.DMatrix(train_df_registered_x,label=train_df_registered_y)\n",
    "#res2 = xgb.cv({'n_estimators':500,'max_depth' : 100,'subsample':0.9,'min_child_weight':5,'gamma':0.1,'eta':0.1,'seed':42},train_data,early_stopping_rounds=10, verbose_eval=True,num_boost_round=500,nfold=3)\n",
    "#print res2\n",
    "reg = XGBRegressor(max_depth=100,subsample=0.8,gamma=0.3,eta=0.01,seed=42,min_child_weight=5,n_estimators=500)\n",
    "reg.fit(train_df_registered_x,train_df_registered_y)\n",
    "test_df_registered = reg.predict(test_df)\n",
    "print cross_val_score(reg,train_df_casual_x,train_df_casual_y)"
   ]
  },
  {
   "cell_type": "code",
   "execution_count": 239,
   "metadata": {},
   "outputs": [],
   "source": [
    "#reg = MLPRegressor(hidden_layer_sizes=(5,))\n",
    "#reg.fit(train_df_casual_x,train_df_casual_y)\n",
    "#test_df_casual = reg.predict(test_df)\n",
    "#print cross_val_score(reg,train_df_casual_x,train_df_casual_y)\n",
    "#reg = MLPRegressor(hidden_layer_sizes=(5,))\n",
    "#reg.fit(train_df_registered_x,train_df_registered_y)\n",
    "#test_df_registered = reg.predict(test_df)\n",
    "#print cross_val_score(reg,train_df_casual_x,train_df_casual_y)"
   ]
  },
  {
   "cell_type": "code",
   "execution_count": 252,
   "metadata": {},
   "outputs": [],
   "source": [
    "count = test_df_casual + test_df_registered\n",
    "for i in range(0,len(count)) :\n",
    "    if count[i] < 0 :\n",
    "        count[i] = 0\n",
    "count = np.floor(count)"
   ]
  },
  {
   "cell_type": "code",
   "execution_count": 241,
   "metadata": {},
   "outputs": [],
   "source": [
    "#train_sizes = [1, 100, 500, 2000, 5000, 8708]\n",
    "\n",
    "#train_sizes, train_scores, validation_scores = learning_curve(shuffle=True,estimator = XGBRegressor(max_depth=500,learning_rate=0.3,subsample=0.75,gamma=0.1), X = train_df_registered_x, y = train_df_registered_y, train_sizes = train_sizes, cv = 5, scoring = 'neg_mean_squared_error')\n",
    "#print('Training scores:\\n\\n', train_scores)\n",
    "#print('\\n', '-' * 70) # separator to make the output easy to read\n",
    "#print('\\nValidation scores:\\n\\n', validation_scores)"
   ]
  },
  {
   "cell_type": "code",
   "execution_count": 242,
   "metadata": {},
   "outputs": [],
   "source": [
    "#train_scores_mean = -train_scores.mean(axis = 1)\n",
    "#validation_scores_mean = -validation_scores.mean(axis = 1)\n",
    "\n",
    "#print('Mean training scores\\n\\n', pd.Series(train_scores_mean, index = train_sizes))\n",
    "#print('\\n', '-' * 20) # separator\n",
    "#print('\\nMean validation scores\\n\\n',pd.Series(validation_scores_mean, index = train_sizes))\n",
    "#plt.style.use('seaborn')\n",
    "\n",
    "#plt.plot(train_sizes, train_scores_mean, label = 'Training error')\n",
    "#plt.plot(train_sizes, validation_scores_mean, label = 'Validation error')\n",
    "\n",
    "#plt.ylabel('MSE', fontsize = 14)\n",
    "#plt.xlabel('Training set size', fontsize = 14)\n",
    "#plt.title('Learning curves for a xgboost model', fontsize = 18, y = 1.03)\n",
    "#plt.legend()\n",
    "#plt.ylim(0,4000)"
   ]
  },
  {
   "cell_type": "code",
   "execution_count": 243,
   "metadata": {},
   "outputs": [],
   "source": [
    "#plt.scatter(test_df['f_temp'],test_df_casual,  color='black')\n",
    "#plt.plot(test_df['f_temp'],test_df_casual, color='blue', linewidth=3)"
   ]
  },
  {
   "cell_type": "code",
   "execution_count": 253,
   "metadata": {},
   "outputs": [],
   "source": [
    "submission = pd.DataFrame({\n",
    "        \"datetime\": test_datetime,\n",
    "        \"count\": count\n",
    "   \n",
    "    })\n",
    "submission = submission[['datetime','count']]\n",
    "submission.head()\n",
    "submission.to_csv('submission.csv', index=False)"
   ]
  },
  {
   "cell_type": "code",
   "execution_count": null,
   "metadata": {},
   "outputs": [],
   "source": []
  }
 ],
 "metadata": {
  "kernelspec": {
   "display_name": "Python 2",
   "language": "python",
   "name": "python2"
  },
  "language_info": {
   "codemirror_mode": {
    "name": "ipython",
    "version": 2
   },
   "file_extension": ".py",
   "mimetype": "text/x-python",
   "name": "python",
   "nbconvert_exporter": "python",
   "pygments_lexer": "ipython2",
   "version": "2.7.14"
  }
 },
 "nbformat": 4,
 "nbformat_minor": 2
}
